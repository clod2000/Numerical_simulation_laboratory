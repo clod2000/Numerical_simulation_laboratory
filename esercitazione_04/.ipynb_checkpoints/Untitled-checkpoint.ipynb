{
 "cells": [
  {
   "cell_type": "code",
   "execution_count": 6,
   "id": "3b245fef-a1ac-4cdc-bc3e-ce2ec85bf831",
   "metadata": {},
   "outputs": [
    {
     "data": {
      "text/plain": [
       "<matplotlib.collections.LineCollection at 0x7ff3aed1bee0>"
      ]
     },
     "execution_count": 6,
     "metadata": {},
     "output_type": "execute_result"
    },
    {
     "data": {
      "image/png": "[encoded data removed]",
      "text/plain": [
       "<Figure size 432x288 with 1 Axes>"
      ]
     },
     "metadata": {
      "needs_background": "light"
     },
     "output_type": "display_data"
    }
   ],
   "source": [
    "import matplotlib\n",
    "import matplotlib.pyplot as plt\n",
    "import numpy as np\n",
    "\n",
    "\n",
    "N=1000 # numero di blocchi\n",
    "\n",
    "x = np.arange(N)\n",
    "\n",
    "sigma = 0.39 # [nm]\n",
    "epsBol = 120 # epsilon/KBoltzmann [K]\n",
    "m = 39.948 # [amu]\n",
    "kB = 1.38065156E-23 # kBoltzmann [K/T] \n",
    "eps = epsBol*kB \n",
    " \n",
    "#fig, axs = plt.subplots(3,2, figsize = (18,18) )\n",
    "fig.suptitle(\"SOLID\", fontsize = (30))\n",
    "\n",
    "press, error_press = np.loadtxt(\"solido/output_press.dat\", usecols=(2,3), unpack = 'true')\n",
    "ekin, error_ekin   = np.loadtxt(\"solido/output_ekin.dat\", usecols=(2,3), unpack = 'true')\n",
    "epot, error_epot   = np.loadtxt(\"solido/output_epot.dat\", usecols=(2,3), unpack = 'true')\n",
    "etot, error_etot   = np.loadtxt(\"solido/output_etot.dat\", usecols=(2,3), unpack = 'true')\n",
    "temp_ist, temp, error_temp   = np.loadtxt(\"solido/output_temp.dat\", usecols=(1,2,3), unpack = 'true')\n",
    "\n",
    "plt.plot(x,temp_ist)\n",
    "plt.errorbar(x,temp,yerr=error_temp )\n",
    "plt.title(\"temperature\")\n",
    "\n",
    "plt.hlines(np.mean(temp) ,0 ,N, color = \"yellow\") \n",
    "plt.hlines(0.8 ,0 ,N, color = \"red\") \n"
   ]
  },
  {
   "cell_type": "code",
   "execution_count": null,
   "id": "53359a6f-0779-46ed-ac00-1ad132d096e1",
   "metadata": {},
   "outputs": [],
   "source": []
  }
 ],
 "metadata": {
  "kernelspec": {
   "display_name": "Python 3 (ipykernel)",
   "language": "python",
   "name": "python3"
  },
  "language_info": {
   "codemirror_mode": {
    "name": "ipython",
    "version": 3
   },
   "file_extension": ".py",
   "mimetype": "text/x-python",
   "name": "python",
   "nbconvert_exporter": "python",
   "pygments_lexer": "ipython3",
   "version": "3.9.7"
  }
 },
 "nbformat": 4,
 "nbformat_minor": 5
}
